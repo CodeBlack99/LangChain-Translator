{
  "nbformat": 4,
  "nbformat_minor": 0,
  "metadata": {
    "colab": {
      "provenance": []
    },
    "kernelspec": {
      "name": "python3",
      "display_name": "Python 3"
    },
    "language_info": {
      "name": "python"
    }
  },
  "cells": [
    {
      "cell_type": "code",
      "source": [
        "#! pip install langchain\n",
        "#! pip install openai\n",
        "#! pip install doctran\n",
        "#!python -m pip install chromadb"
      ],
      "metadata": {
        "id": "v2lntK98VoVM"
      },
      "execution_count": 13,
      "outputs": []
    },
    {
      "cell_type": "code",
      "source": [
        "from langchain.memory import ConversationBufferMemory\n",
        "from langchain.schema import Document\n",
        "from langchain.document_loaders import TextLoader\n",
        "from langchain.embeddings.sentence_transformer import SentenceTransformerEmbeddings\n",
        "from langchain.text_splitter import CharacterTextSplitter\n",
        "from langchain.vectorstores import Chroma\n",
        "from langchain.chat_models import ChatOpenAI\n",
        "from langchain.prompts.chat import (\n",
        "    ChatPromptTemplate,\n",
        "    HumanMessagePromptTemplate,\n",
        "    SystemMessagePromptTemplate,\n",
        ")\n",
        "from langchain.prompts import PromptTemplate\n",
        "import os\n",
        "import openai\n",
        "from langchain.document_transformers import DoctranTextTranslator, DoctranQATransformer\n",
        "from langchain.schema import Document\n",
        "from langchain.memory import ConversationBufferWindowMemory\n",
        "from langchain.embeddings import HuggingFaceEmbeddings"
      ],
      "metadata": {
        "id": "4lUiIRYfpOy7"
      },
      "execution_count": 14,
      "outputs": []
    },
    {
      "cell_type": "code",
      "source": [
        "openai.api_key = os.environ['OPENAI_API_KEY']"
      ],
      "metadata": {
        "id": "4rPOs70ZVMQM"
      },
      "execution_count": 15,
      "outputs": []
    },
    {
      "cell_type": "code",
      "source": [
        "llm_model = \"gpt-3.5-turbo-0301\""
      ],
      "metadata": {
        "id": "NWSuk3uKUy9c"
      },
      "execution_count": 16,
      "outputs": []
    },
    {
      "cell_type": "code",
      "execution_count": 17,
      "metadata": {
        "id": "PG8GcQ9chvIm"
      },
      "outputs": [],
      "source": [
        "chat = ChatOpenAI(temperature=0)"
      ]
    },
    {
      "cell_type": "code",
      "source": [
        "rumi_poem = \"\"\"\n",
        "May God have mercy on those who lead the way\n",
        "and those who come behind and those who fulfill their vows,\n",
        "and those who seek to fulfill them,\n",
        "with His Grace and bounty, His great benefits and favors!\n",
        "For He is the best object of petition and the noblest object of hope;\n",
        "and God is the best protector and the most merciful\n",
        "of those who show mercy, and the best of friends and the best of heirs\n",
        "and the best replacer of what has been consumed\n",
        "and provider for those devoted who sow\n",
        "and till the soil of good works.\n",
        "And God bless Muhammad and all the Prophets and Messengers!\n",
        "Amen, O Lord of created beings!\n",
        "\"\"\""
      ],
      "metadata": {
        "id": "JZ4XlykZW5kh"
      },
      "execution_count": 18,
      "outputs": []
    },
    {
      "cell_type": "markdown",
      "source": [],
      "metadata": {
        "id": "XxDjsaHqyUBD"
      }
    },
    {
      "cell_type": "code",
      "source": [
        "documents = [Document(page_content=rumi_poem)]\n",
        "translator = DoctranTextTranslator(language=\"portuguese\", openai_api_model=llm_model)"
      ],
      "metadata": {
        "id": "9AfXyfpLWXWx"
      },
      "execution_count": 19,
      "outputs": []
    },
    {
      "cell_type": "code",
      "source": [
        "#!pip install openai==0.28\n",
        "translated_document =  translator.atransform_documents(documents)"
      ],
      "metadata": {
        "id": "AWAB914GdVTH"
      },
      "execution_count": 20,
      "outputs": []
    },
    {
      "cell_type": "code",
      "source": [
        "text_splitter = CharacterTextSplitter(chunk_size=1000, chunk_overlap=0)\n",
        "docs = text_splitter.split_documents(documents)\n",
        "from sentence_transformers import SentenceTransformer\n",
        "\n",
        "embedding_function = SentenceTransformerEmbeddings(model_name=\"all-MiniLM-L6-v2\")\n",
        "\n",
        "db = Chroma.from_documents(docs, embedding_function)"
      ],
      "metadata": {
        "colab": {
          "base_uri": "https://localhost:8080/"
        },
        "id": "vsT_3Q7LzdZ9",
        "outputId": "88edd194-2fd0-42f3-9ea2-29273da8c75d"
      },
      "execution_count": 21,
      "outputs": [
        {
          "output_type": "stream",
          "name": "stderr",
          "text": [
            "Exception ignored in: <coroutine object DoctranTextTranslator.atransform_documents at 0x7fcad1927b50>\n",
            "Traceback (most recent call last):\n",
            "  File \"/usr/local/lib/python3.10/dist-packages/google/colab/_variable_inspector.py\", line 27, in run\n",
            "KeyError: '__builtins__'\n",
            "Exception ignored in: <coroutine object DoctranTextTranslator.atransform_documents at 0x7fcad1927b50>\n",
            "Traceback (most recent call last):\n",
            "  File \"/usr/local/lib/python3.10/dist-packages/google/colab/_variable_inspector.py\", line 27, in run\n",
            "KeyError: '__builtins__'\n"
          ]
        }
      ]
    },
    {
      "cell_type": "code",
      "source": [
        "query = \"What did the president say about Ketanji Brown Jackson\"\n",
        "docs = db.similarity_search(query)\n",
        "\n",
        "# print results\n",
        "print(docs[0].page_content)"
      ],
      "metadata": {
        "colab": {
          "base_uri": "https://localhost:8080/"
        },
        "id": "Kn1VV_Dxz2WG",
        "outputId": "8124caad-57e4-498c-e7e9-acdd2413e299"
      },
      "execution_count": 22,
      "outputs": [
        {
          "output_type": "stream",
          "name": "stderr",
          "text": [
            "WARNING:chromadb.segment.impl.vector.local_hnsw:Number of requested results 4 is greater than number of elements in index 2, updating n_results = 2\n"
          ]
        },
        {
          "output_type": "stream",
          "name": "stdout",
          "text": [
            "May God have mercy on those who lead the way\n",
            "and those who come behind and those who fulfill their vows,\n",
            "and those who seek to fulfill them,\n",
            "with His Grace and bounty, His great benefits and favors!\n",
            "For He is the best object of petition and the noblest object of hope;\n",
            "and God is the best protector and the most merciful\n",
            "of those who show mercy, and the best of friends and the best of heirs\n",
            "and the best replacer of what has been consumed\n",
            "and provider for those devoted who sow\n",
            "and till the soil of good works.\n",
            "And God bless Muhammad and all the Prophets and Messengers!\n",
            "Amen, O Lord of created beings!\n"
          ]
        }
      ]
    },
    {
      "cell_type": "code",
      "source": [
        "print(translated_document[0].page_content)"
      ],
      "metadata": {
        "colab": {
          "base_uri": "https://localhost:8080/",
          "height": 175
        },
        "id": "8rIyhpZreMYP",
        "outputId": "a98e06d6-761e-4e38-d45a-ff1b7397b1fc"
      },
      "execution_count": 23,
      "outputs": [
        {
          "output_type": "error",
          "ename": "TypeError",
          "evalue": "ignored",
          "traceback": [
            "\u001b[0;31m---------------------------------------------------------------------------\u001b[0m",
            "\u001b[0;31mTypeError\u001b[0m                                 Traceback (most recent call last)",
            "\u001b[0;32m<ipython-input-23-3406d5795deb>\u001b[0m in \u001b[0;36m<cell line: 1>\u001b[0;34m()\u001b[0m\n\u001b[0;32m----> 1\u001b[0;31m \u001b[0mprint\u001b[0m\u001b[0;34m(\u001b[0m\u001b[0mtranslated_document\u001b[0m\u001b[0;34m[\u001b[0m\u001b[0;36m0\u001b[0m\u001b[0;34m]\u001b[0m\u001b[0;34m.\u001b[0m\u001b[0mpage_content\u001b[0m\u001b[0;34m)\u001b[0m\u001b[0;34m\u001b[0m\u001b[0;34m\u001b[0m\u001b[0m\n\u001b[0m",
            "\u001b[0;31mTypeError\u001b[0m: 'coroutine' object is not subscriptable"
          ]
        }
      ]
    }
  ]
}